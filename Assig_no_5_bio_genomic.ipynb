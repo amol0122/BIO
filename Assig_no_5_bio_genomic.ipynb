{
 "cells": [
  {
   "cell_type": "markdown",
   "metadata": {
    "id": "S730l3cj03y_"
   },
   "source": [
    "Bio info Assig no 5"
   ]
  },
  {
   "cell_type": "code",
   "execution_count": 37,
   "metadata": {
    "id": "BHH38I5-03zA"
   },
   "outputs": [],
   "source": [
    "import numpy as np\n",
    "import pandas as pd\n",
    "from sklearn.model_selection import train_test_split\n",
    "from sklearn.preprocessing import LabelEncoder\n",
    "from sklearn.ensemble import RandomForestClassifier\n",
    "from sklearn.svm import SVC\n",
    "from sklearn.metrics import accuracy_score, classification_report\n",
    "from sklearn.impute import SimpleImputer\n",
    "from sklearn.preprocessing import StandardScaler\n",
    "from sklearn.model_selection import GridSearchCV\n"
   ]
  },
  {
   "cell_type": "code",
   "execution_count": 38,
   "metadata": {
    "colab": {
     "base_uri": "https://localhost:8080/"
    },
    "id": "Vcq0e0gC6BEX",
    "outputId": "fc372674-f7e5-4295-a43e-a44c11de10a7"
   },
   "outputs": [
    {
     "name": "stderr",
     "output_type": "stream",
     "text": [
      "'gdown' is not recognized as an internal or external command,\n",
      "operable program or batch file.\n"
     ]
    }
   ],
   "source": [
    "! gdown 1x12OF21XL8VvRGCsNuy22kuw4kSd6pvv"
   ]
  },
  {
   "cell_type": "code",
   "execution_count": 39,
   "metadata": {
    "id": "vFM_uba003zB"
   },
   "outputs": [],
   "source": [
    "# Load genomic data (replace 'data.csv' with your file)\n",
    "data = pd.read_csv('Genomics.csv')\n"
   ]
  },
  {
   "cell_type": "code",
   "execution_count": 40,
   "metadata": {
    "colab": {
     "base_uri": "https://localhost:8080/",
     "height": 206
    },
    "id": "hHA-V4gQ03zC",
    "outputId": "dbe8d7e3-c9e5-48b9-ad58-7d074e3f8277"
   },
   "outputs": [
    {
     "data": {
      "text/html": [
       "<div>\n",
       "<style scoped>\n",
       "    .dataframe tbody tr th:only-of-type {\n",
       "        vertical-align: middle;\n",
       "    }\n",
       "\n",
       "    .dataframe tbody tr th {\n",
       "        vertical-align: top;\n",
       "    }\n",
       "\n",
       "    .dataframe thead th {\n",
       "        text-align: right;\n",
       "    }\n",
       "</style>\n",
       "<table border=\"1\" class=\"dataframe\">\n",
       "  <thead>\n",
       "    <tr style=\"text-align: right;\">\n",
       "      <th></th>\n",
       "      <th>date</th>\n",
       "      <th>area</th>\n",
       "      <th>area_type</th>\n",
       "      <th>variant_name</th>\n",
       "      <th>specimens</th>\n",
       "      <th>percentage</th>\n",
       "      <th>specimens_7d_avg</th>\n",
       "      <th>percentage_7d_avg</th>\n",
       "    </tr>\n",
       "  </thead>\n",
       "  <tbody>\n",
       "    <tr>\n",
       "      <th>0</th>\n",
       "      <td>01-01-2021</td>\n",
       "      <td>California</td>\n",
       "      <td>State</td>\n",
       "      <td>Alpha</td>\n",
       "      <td>1</td>\n",
       "      <td>1.69</td>\n",
       "      <td>NaN</td>\n",
       "      <td>NaN</td>\n",
       "    </tr>\n",
       "    <tr>\n",
       "      <th>1</th>\n",
       "      <td>01-01-2021</td>\n",
       "      <td>California</td>\n",
       "      <td>State</td>\n",
       "      <td>Lambda</td>\n",
       "      <td>0</td>\n",
       "      <td>0.00</td>\n",
       "      <td>NaN</td>\n",
       "      <td>NaN</td>\n",
       "    </tr>\n",
       "    <tr>\n",
       "      <th>2</th>\n",
       "      <td>01-01-2021</td>\n",
       "      <td>California</td>\n",
       "      <td>State</td>\n",
       "      <td>Other</td>\n",
       "      <td>29</td>\n",
       "      <td>49.15</td>\n",
       "      <td>NaN</td>\n",
       "      <td>NaN</td>\n",
       "    </tr>\n",
       "    <tr>\n",
       "      <th>3</th>\n",
       "      <td>01-01-2021</td>\n",
       "      <td>California</td>\n",
       "      <td>State</td>\n",
       "      <td>Epsilon</td>\n",
       "      <td>28</td>\n",
       "      <td>47.46</td>\n",
       "      <td>NaN</td>\n",
       "      <td>NaN</td>\n",
       "    </tr>\n",
       "    <tr>\n",
       "      <th>4</th>\n",
       "      <td>01-01-2021</td>\n",
       "      <td>California</td>\n",
       "      <td>State</td>\n",
       "      <td>Omicron</td>\n",
       "      <td>1</td>\n",
       "      <td>1.69</td>\n",
       "      <td>NaN</td>\n",
       "      <td>NaN</td>\n",
       "    </tr>\n",
       "  </tbody>\n",
       "</table>\n",
       "</div>"
      ],
      "text/plain": [
       "         date        area area_type variant_name  specimens  percentage  \\\n",
       "0  01-01-2021  California     State        Alpha          1        1.69   \n",
       "1  01-01-2021  California     State       Lambda          0        0.00   \n",
       "2  01-01-2021  California     State        Other         29       49.15   \n",
       "3  01-01-2021  California     State      Epsilon         28       47.46   \n",
       "4  01-01-2021  California     State      Omicron          1        1.69   \n",
       "\n",
       "   specimens_7d_avg  percentage_7d_avg  \n",
       "0               NaN                NaN  \n",
       "1               NaN                NaN  \n",
       "2               NaN                NaN  \n",
       "3               NaN                NaN  \n",
       "4               NaN                NaN  "
      ]
     },
     "execution_count": 40,
     "metadata": {},
     "output_type": "execute_result"
    }
   ],
   "source": [
    "data.head()"
   ]
  },
  {
   "cell_type": "code",
   "execution_count": 41,
   "metadata": {
    "colab": {
     "base_uri": "https://localhost:8080/"
    },
    "id": "Fhan2Ijx03zC",
    "outputId": "6e9ecd4d-f654-4fd6-cd78-2422a1b84eab"
   },
   "outputs": [
    {
     "name": "stdout",
     "output_type": "stream",
     "text": [
      "<class 'pandas.core.frame.DataFrame'>\n",
      "RangeIndex: 7790 entries, 0 to 7789\n",
      "Data columns (total 8 columns):\n",
      " #   Column             Non-Null Count  Dtype  \n",
      "---  ------             --------------  -----  \n",
      " 0   date               7790 non-null   object \n",
      " 1   area               7790 non-null   object \n",
      " 2   area_type          7790 non-null   object \n",
      " 3   variant_name       7790 non-null   object \n",
      " 4   specimens          7790 non-null   int64  \n",
      " 5   percentage         7790 non-null   float64\n",
      " 6   specimens_7d_avg   7730 non-null   float64\n",
      " 7   percentage_7d_avg  7730 non-null   float64\n",
      "dtypes: float64(3), int64(1), object(4)\n",
      "memory usage: 487.0+ KB\n"
     ]
    }
   ],
   "source": [
    "data.info()"
   ]
  },
  {
   "cell_type": "code",
   "execution_count": 42,
   "metadata": {
    "colab": {
     "base_uri": "https://localhost:8080/"
    },
    "id": "xtAcUZVM03zD",
    "outputId": "369f71dc-aa35-4526-8edd-a66962c18277"
   },
   "outputs": [
    {
     "data": {
      "text/plain": [
       "Index(['date', 'area', 'area_type', 'variant_name', 'specimens', 'percentage',\n",
       "       'specimens_7d_avg', 'percentage_7d_avg'],\n",
       "      dtype='object')"
      ]
     },
     "execution_count": 42,
     "metadata": {},
     "output_type": "execute_result"
    }
   ],
   "source": [
    "data.columns"
   ]
  },
  {
   "cell_type": "code",
   "execution_count": 43,
   "metadata": {
    "colab": {
     "base_uri": "https://localhost:8080/"
    },
    "id": "7-041rtsedP9",
    "outputId": "beff6ccd-446b-45a2-baf6-181547053cb3"
   },
   "outputs": [
    {
     "data": {
      "text/plain": [
       "date                  0\n",
       "area                  0\n",
       "area_type             0\n",
       "variant_name          0\n",
       "specimens             0\n",
       "percentage            0\n",
       "specimens_7d_avg     60\n",
       "percentage_7d_avg    60\n",
       "dtype: int64"
      ]
     },
     "execution_count": 43,
     "metadata": {},
     "output_type": "execute_result"
    }
   ],
   "source": [
    "data.isna().sum()"
   ]
  },
  {
   "cell_type": "code",
   "execution_count": 44,
   "metadata": {
    "id": "LfZA9Ci7einx"
   },
   "outputs": [],
   "source": [
    "data.dropna(inplace=True)"
   ]
  },
  {
   "cell_type": "code",
   "execution_count": 55,
   "metadata": {
    "colab": {
     "base_uri": "https://localhost:8080/"
    },
    "id": "5npHiwrC03zD",
    "outputId": "508ebc47-1b46-4e70-8134-6462cd3a95ab"
   },
   "outputs": [
    {
     "name": "stderr",
     "output_type": "stream",
     "text": [
      "C:\\Users\\user\\AppData\\Local\\Temp\\ipykernel_39676\\4287492953.py:7: SettingWithCopyWarning: \n",
      "A value is trying to be set on a copy of a slice from a DataFrame.\n",
      "Try using .loc[row_indexer,col_indexer] = value instead\n",
      "\n",
      "See the caveats in the documentation: https://pandas.pydata.org/pandas-docs/stable/user_guide/indexing.html#returning-a-view-versus-a-copy\n",
      "  features['area'] = encoder.fit_transform(features['area'])\n",
      "C:\\Users\\user\\AppData\\Local\\Temp\\ipykernel_39676\\4287492953.py:8: SettingWithCopyWarning: \n",
      "A value is trying to be set on a copy of a slice from a DataFrame.\n",
      "Try using .loc[row_indexer,col_indexer] = value instead\n",
      "\n",
      "See the caveats in the documentation: https://pandas.pydata.org/pandas-docs/stable/user_guide/indexing.html#returning-a-view-versus-a-copy\n",
      "  features['area_type'] = encoder.fit_transform(features['area_type'])\n"
     ]
    }
   ],
   "source": [
    "# Features and target variable\n",
    "features = data[['area', 'area_type', 'specimens', 'percentage', 'specimens_7d_avg', 'percentage_7d_avg']]\n",
    "labels = data['variant_name']\n",
    "\n",
    "# Convert categorical features to numerical using Label Encoding\n",
    "encoder = LabelEncoder()\n",
    "features['area'] = encoder.fit_transform(features['area'])\n",
    "features['area_type'] = encoder.fit_transform(features['area_type'])\n"
   ]
  },
  {
   "cell_type": "code",
   "execution_count": 46,
   "metadata": {
    "colab": {
     "base_uri": "https://localhost:8080/",
     "height": 423
    },
    "id": "MUPzY1EjaaRU",
    "outputId": "66ac1212-e312-4ec4-bba3-efc5b5e5aa40"
   },
   "outputs": [
    {
     "data": {
      "text/html": [
       "<div>\n",
       "<style scoped>\n",
       "    .dataframe tbody tr th:only-of-type {\n",
       "        vertical-align: middle;\n",
       "    }\n",
       "\n",
       "    .dataframe tbody tr th {\n",
       "        vertical-align: top;\n",
       "    }\n",
       "\n",
       "    .dataframe thead th {\n",
       "        text-align: right;\n",
       "    }\n",
       "</style>\n",
       "<table border=\"1\" class=\"dataframe\">\n",
       "  <thead>\n",
       "    <tr style=\"text-align: right;\">\n",
       "      <th></th>\n",
       "      <th>area</th>\n",
       "      <th>area_type</th>\n",
       "      <th>specimens</th>\n",
       "      <th>percentage</th>\n",
       "      <th>specimens_7d_avg</th>\n",
       "      <th>percentage_7d_avg</th>\n",
       "    </tr>\n",
       "  </thead>\n",
       "  <tbody>\n",
       "    <tr>\n",
       "      <th>60</th>\n",
       "      <td>0</td>\n",
       "      <td>0</td>\n",
       "      <td>299</td>\n",
       "      <td>100.00</td>\n",
       "      <td>453.428571</td>\n",
       "      <td>100.000000</td>\n",
       "    </tr>\n",
       "    <tr>\n",
       "      <th>61</th>\n",
       "      <td>0</td>\n",
       "      <td>0</td>\n",
       "      <td>2</td>\n",
       "      <td>0.67</td>\n",
       "      <td>1.142857</td>\n",
       "      <td>0.252048</td>\n",
       "    </tr>\n",
       "    <tr>\n",
       "      <th>62</th>\n",
       "      <td>0</td>\n",
       "      <td>0</td>\n",
       "      <td>0</td>\n",
       "      <td>0.00</td>\n",
       "      <td>1.571429</td>\n",
       "      <td>0.346566</td>\n",
       "    </tr>\n",
       "    <tr>\n",
       "      <th>63</th>\n",
       "      <td>0</td>\n",
       "      <td>0</td>\n",
       "      <td>0</td>\n",
       "      <td>0.00</td>\n",
       "      <td>0.142857</td>\n",
       "      <td>0.031506</td>\n",
       "    </tr>\n",
       "    <tr>\n",
       "      <th>64</th>\n",
       "      <td>0</td>\n",
       "      <td>0</td>\n",
       "      <td>155</td>\n",
       "      <td>51.84</td>\n",
       "      <td>240.714286</td>\n",
       "      <td>53.087587</td>\n",
       "    </tr>\n",
       "    <tr>\n",
       "      <th>...</th>\n",
       "      <td>...</td>\n",
       "      <td>...</td>\n",
       "      <td>...</td>\n",
       "      <td>...</td>\n",
       "      <td>...</td>\n",
       "      <td>...</td>\n",
       "    </tr>\n",
       "    <tr>\n",
       "      <th>7785</th>\n",
       "      <td>0</td>\n",
       "      <td>0</td>\n",
       "      <td>0</td>\n",
       "      <td>0.00</td>\n",
       "      <td>0.000000</td>\n",
       "      <td>0.000000</td>\n",
       "    </tr>\n",
       "    <tr>\n",
       "      <th>7786</th>\n",
       "      <td>0</td>\n",
       "      <td>0</td>\n",
       "      <td>0</td>\n",
       "      <td>0.00</td>\n",
       "      <td>0.000000</td>\n",
       "      <td>0.000000</td>\n",
       "    </tr>\n",
       "    <tr>\n",
       "      <th>7787</th>\n",
       "      <td>0</td>\n",
       "      <td>0</td>\n",
       "      <td>36</td>\n",
       "      <td>97.30</td>\n",
       "      <td>88.857143</td>\n",
       "      <td>98.730159</td>\n",
       "    </tr>\n",
       "    <tr>\n",
       "      <th>7788</th>\n",
       "      <td>0</td>\n",
       "      <td>0</td>\n",
       "      <td>0</td>\n",
       "      <td>0.00</td>\n",
       "      <td>0.000000</td>\n",
       "      <td>0.000000</td>\n",
       "    </tr>\n",
       "    <tr>\n",
       "      <th>7789</th>\n",
       "      <td>0</td>\n",
       "      <td>0</td>\n",
       "      <td>1</td>\n",
       "      <td>2.70</td>\n",
       "      <td>1.142857</td>\n",
       "      <td>1.269841</td>\n",
       "    </tr>\n",
       "  </tbody>\n",
       "</table>\n",
       "<p>7730 rows × 6 columns</p>\n",
       "</div>"
      ],
      "text/plain": [
       "      area  area_type  specimens  percentage  specimens_7d_avg  \\\n",
       "60       0          0        299      100.00        453.428571   \n",
       "61       0          0          2        0.67          1.142857   \n",
       "62       0          0          0        0.00          1.571429   \n",
       "63       0          0          0        0.00          0.142857   \n",
       "64       0          0        155       51.84        240.714286   \n",
       "...    ...        ...        ...         ...               ...   \n",
       "7785     0          0          0        0.00          0.000000   \n",
       "7786     0          0          0        0.00          0.000000   \n",
       "7787     0          0         36       97.30         88.857143   \n",
       "7788     0          0          0        0.00          0.000000   \n",
       "7789     0          0          1        2.70          1.142857   \n",
       "\n",
       "      percentage_7d_avg  \n",
       "60           100.000000  \n",
       "61             0.252048  \n",
       "62             0.346566  \n",
       "63             0.031506  \n",
       "64            53.087587  \n",
       "...                 ...  \n",
       "7785           0.000000  \n",
       "7786           0.000000  \n",
       "7787          98.730159  \n",
       "7788           0.000000  \n",
       "7789           1.269841  \n",
       "\n",
       "[7730 rows x 6 columns]"
      ]
     },
     "execution_count": 46,
     "metadata": {},
     "output_type": "execute_result"
    }
   ],
   "source": [
    "features"
   ]
  },
  {
   "cell_type": "code",
   "execution_count": 47,
   "metadata": {
    "colab": {
     "base_uri": "https://localhost:8080/"
    },
    "id": "d052AThwau5I",
    "outputId": "bf5a41a3-a251-4dc4-f167-14ce7ab484b1"
   },
   "outputs": [
    {
     "data": {
      "text/plain": [
       "0    7730\n",
       "Name: area, dtype: int64"
      ]
     },
     "execution_count": 47,
     "metadata": {},
     "output_type": "execute_result"
    }
   ],
   "source": [
    "features['area'].value_counts()"
   ]
  },
  {
   "cell_type": "code",
   "execution_count": 48,
   "metadata": {
    "colab": {
     "base_uri": "https://localhost:8080/"
    },
    "id": "d2ByNJs8bFhK",
    "outputId": "b8c9f3d8-c865-4b9b-d321-20fbf0127084"
   },
   "outputs": [
    {
     "data": {
      "text/plain": [
       "0    7730\n",
       "Name: area_type, dtype: int64"
      ]
     },
     "execution_count": 48,
     "metadata": {},
     "output_type": "execute_result"
    }
   ],
   "source": [
    "features['area_type'].value_counts()"
   ]
  },
  {
   "cell_type": "code",
   "execution_count": null,
   "metadata": {
    "id": "gl4FKvcHeRPt"
   },
   "outputs": [],
   "source": []
  },
  {
   "cell_type": "code",
   "execution_count": 49,
   "metadata": {
    "id": "MSwUlpDS03zD"
   },
   "outputs": [],
   "source": [
    "# Split the dataset into training and testing sets\n",
    "X_train, X_test, y_train, y_test = train_test_split(features, labels, test_size=0.2, random_state=42)\n",
    "\n",
    "# Standardize features\n",
    "scaler = StandardScaler()\n",
    "X_train_scaled = scaler.fit_transform(X_train)\n",
    "X_test_scaled = scaler.transform(X_test)\n"
   ]
  },
  {
   "cell_type": "code",
   "execution_count": null,
   "metadata": {
    "id": "UM9KYRHe03zD"
   },
   "outputs": [],
   "source": [
    "\n"
   ]
  },
  {
   "cell_type": "code",
   "execution_count": 50,
   "metadata": {
    "id": "1SlcCzLx03zD"
   },
   "outputs": [],
   "source": [
    "# Initialize the Random Forest Classifier\n",
    "rf_classifier = RandomForestClassifier(random_state=42)"
   ]
  },
  {
   "cell_type": "code",
   "execution_count": 51,
   "metadata": {
    "colab": {
     "base_uri": "https://localhost:8080/",
     "height": 116
    },
    "id": "pVF6-cjK03zE",
    "outputId": "d76d70c4-32e9-40bc-f87a-9900d530a11e"
   },
   "outputs": [],
   "source": [
    "# Perform Grid Search to find the best parameters\n",
    "best_rf_model = rf_classifier.fit(X_train_scaled, y_train)\n"
   ]
  },
  {
   "cell_type": "code",
   "execution_count": null,
   "metadata": {
    "id": "15JY7ijP03zE"
   },
   "outputs": [],
   "source": []
  },
  {
   "cell_type": "code",
   "execution_count": null,
   "metadata": {
    "id": "xP2fHjhKdapV"
   },
   "outputs": [],
   "source": []
  },
  {
   "cell_type": "code",
   "execution_count": 52,
   "metadata": {
    "id": "p7_-FWSj03zE"
   },
   "outputs": [],
   "source": [
    "# Predict using the best model\n",
    "best_rf_predictions = best_rf_model.predict(X_test_scaled)\n"
   ]
  },
  {
   "cell_type": "code",
   "execution_count": 53,
   "metadata": {
    "colab": {
     "base_uri": "https://localhost:8080/"
    },
    "id": "I1_3vDih03zE",
    "outputId": "6b4d9b2e-c084-499e-a7bf-b5c674b90c35"
   },
   "outputs": [
    {
     "name": "stdout",
     "output_type": "stream",
     "text": [
      "Best Random Forest Classifier Accuracy: 0.4333764553686934\n"
     ]
    }
   ],
   "source": [
    "# Evaluate the best model\n",
    "best_rf_accuracy = accuracy_score(y_test, best_rf_predictions)\n",
    "print(\"Best Random Forest Classifier Accuracy:\", best_rf_accuracy)\n"
   ]
  },
  {
   "cell_type": "code",
   "execution_count": 54,
   "metadata": {
    "colab": {
     "base_uri": "https://localhost:8080/"
    },
    "id": "znS1jZfz03zE",
    "outputId": "f3460b10-9992-4b58-88ef-41d0b84304a4"
   },
   "outputs": [
    {
     "name": "stdout",
     "output_type": "stream",
     "text": [
      "Best Random Forest Classifier Classification Report:\n",
      "               precision    recall  f1-score   support\n",
      "\n",
      "       Alpha       0.46      0.20      0.28       131\n",
      "        Beta       0.15      0.88      0.26       137\n",
      "       Delta       0.58      0.33      0.42       144\n",
      "     Epsilon       0.68      0.17      0.27       160\n",
      "       Gamma       0.57      0.16      0.25       164\n",
      "      Lambda       0.26      0.04      0.06       167\n",
      "          Mu       0.38      0.09      0.14       147\n",
      "     Omicron       0.82      0.61      0.70       160\n",
      "       Other       0.69      0.82      0.75       169\n",
      "       Total       1.00      1.00      1.00       167\n",
      "\n",
      "    accuracy                           0.43      1546\n",
      "   macro avg       0.56      0.43      0.41      1546\n",
      "weighted avg       0.57      0.43      0.42      1546\n",
      "\n"
     ]
    }
   ],
   "source": [
    "# Generate a classification report for the best model\n",
    "best_rf_classification_report = classification_report(y_test, best_rf_predictions)\n",
    "print(\"Best Random Forest Classifier Classification Report:\\n\", best_rf_classification_report)"
   ]
  },
  {
   "cell_type": "code",
   "execution_count": null,
   "metadata": {},
   "outputs": [],
   "source": []
  },
  {
   "cell_type": "code",
   "execution_count": 56,
   "metadata": {},
   "outputs": [],
   "source": [
    "#SVC\n",
    "from sklearn.svm import SVC"
   ]
  },
  {
   "cell_type": "code",
   "execution_count": 57,
   "metadata": {},
   "outputs": [],
   "source": [
    "svc_classifier = SVC(random_state=42)"
   ]
  },
  {
   "cell_type": "code",
   "execution_count": 58,
   "metadata": {},
   "outputs": [],
   "source": [
    "best_svc_model = svc_classifier.fit(X_train_scaled, y_train)"
   ]
  },
  {
   "cell_type": "code",
   "execution_count": 61,
   "metadata": {},
   "outputs": [],
   "source": [
    "# Predict using the best model\n",
    "best_svc_predictions = best_svc_model.predict(X_test_scaled)"
   ]
  },
  {
   "cell_type": "code",
   "execution_count": 62,
   "metadata": {},
   "outputs": [
    {
     "name": "stdout",
     "output_type": "stream",
     "text": [
      "Best Support Vector Classifier Accuracy: 0.24644243208279432\n"
     ]
    }
   ],
   "source": [
    "# Evaluate the best model\n",
    "best_svc_accuracy = accuracy_score(y_test, best_svc_predictions)\n",
    "print(\"Best Support Vector Classifier Accuracy:\", best_svc_accuracy)\n"
   ]
  },
  {
   "cell_type": "code",
   "execution_count": 63,
   "metadata": {},
   "outputs": [
    {
     "name": "stdout",
     "output_type": "stream",
     "text": [
      "Best Support Vector Classifier Classification Report:\n",
      "               precision    recall  f1-score   support\n",
      "\n",
      "       Alpha       0.74      0.11      0.19       131\n",
      "        Beta       0.12      1.00      0.22       137\n",
      "       Delta       0.67      0.01      0.03       144\n",
      "     Epsilon       0.88      0.09      0.16       160\n",
      "       Gamma       0.48      0.07      0.13       164\n",
      "      Lambda       0.00      0.00      0.00       167\n",
      "          Mu       0.00      0.00      0.00       147\n",
      "     Omicron       0.33      0.01      0.01       160\n",
      "       Other       0.47      0.20      0.28       169\n",
      "       Total       0.60      1.00      0.75       167\n",
      "\n",
      "    accuracy                           0.25      1546\n",
      "   macro avg       0.43      0.25      0.18      1546\n",
      "weighted avg       0.43      0.25      0.18      1546\n",
      "\n"
     ]
    },
    {
     "name": "stderr",
     "output_type": "stream",
     "text": [
      "C:\\ProgramData\\Anaconda3\\lib\\site-packages\\sklearn\\metrics\\_classification.py:1318: UndefinedMetricWarning: Precision and F-score are ill-defined and being set to 0.0 in labels with no predicted samples. Use `zero_division` parameter to control this behavior.\n",
      "  _warn_prf(average, modifier, msg_start, len(result))\n",
      "C:\\ProgramData\\Anaconda3\\lib\\site-packages\\sklearn\\metrics\\_classification.py:1318: UndefinedMetricWarning: Precision and F-score are ill-defined and being set to 0.0 in labels with no predicted samples. Use `zero_division` parameter to control this behavior.\n",
      "  _warn_prf(average, modifier, msg_start, len(result))\n",
      "C:\\ProgramData\\Anaconda3\\lib\\site-packages\\sklearn\\metrics\\_classification.py:1318: UndefinedMetricWarning: Precision and F-score are ill-defined and being set to 0.0 in labels with no predicted samples. Use `zero_division` parameter to control this behavior.\n",
      "  _warn_prf(average, modifier, msg_start, len(result))\n"
     ]
    }
   ],
   "source": [
    "# Generate a classification report for the best model\n",
    "best_svc_classification_report = classification_report(y_test, best_svc_predictions)\n",
    "print(\"Best Support Vector Classifier Classification Report:\\n\", best_svc_classification_report)"
   ]
  },
  {
   "cell_type": "code",
   "execution_count": null,
   "metadata": {},
   "outputs": [],
   "source": []
  },
  {
   "cell_type": "code",
   "execution_count": null,
   "metadata": {
    "id": "W5eRHr6u03zE"
   },
   "outputs": [],
   "source": []
  }
 ],
 "metadata": {
  "colab": {
   "provenance": []
  },
  "kernelspec": {
   "display_name": "Python 3 (ipykernel)",
   "language": "python",
   "name": "python3"
  },
  "language_info": {
   "codemirror_mode": {
    "name": "ipython",
    "version": 3
   },
   "file_extension": ".py",
   "mimetype": "text/x-python",
   "name": "python",
   "nbconvert_exporter": "python",
   "pygments_lexer": "ipython3",
   "version": "3.9.13"
  }
 },
 "nbformat": 4,
 "nbformat_minor": 1
}
